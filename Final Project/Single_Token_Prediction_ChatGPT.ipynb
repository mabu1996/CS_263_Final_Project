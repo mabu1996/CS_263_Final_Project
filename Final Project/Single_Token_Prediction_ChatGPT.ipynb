{
  "nbformat": 4,
  "nbformat_minor": 0,
  "metadata": {
    "colab": {
      "provenance": []
    },
    "kernelspec": {
      "name": "python3",
      "display_name": "Python 3"
    },
    "language_info": {
      "name": "python"
    }
  },
  "cells": [
    {
      "cell_type": "code",
      "execution_count": 1,
      "metadata": {
        "colab": {
          "base_uri": "https://localhost:8080/"
        },
        "id": "i9B5-lmcnax2",
        "outputId": "0bc1a15f-f409-48f2-c0c0-5d598d34519d"
      },
      "outputs": [
        {
          "output_type": "stream",
          "name": "stdout",
          "text": [
            "Looking in indexes: https://pypi.org/simple, https://us-python.pkg.dev/colab-wheels/public/simple/\n",
            "Requirement already satisfied: pandas in /usr/local/lib/python3.10/dist-packages (1.5.3)\n",
            "Requirement already satisfied: python-dateutil>=2.8.1 in /usr/local/lib/python3.10/dist-packages (from pandas) (2.8.2)\n",
            "Requirement already satisfied: pytz>=2020.1 in /usr/local/lib/python3.10/dist-packages (from pandas) (2022.7.1)\n",
            "Requirement already satisfied: numpy>=1.21.0 in /usr/local/lib/python3.10/dist-packages (from pandas) (1.22.4)\n",
            "Requirement already satisfied: six>=1.5 in /usr/local/lib/python3.10/dist-packages (from python-dateutil>=2.8.1->pandas) (1.16.0)\n"
          ]
        }
      ],
      "source": [
        "!pip install pandas"
      ]
    },
    {
      "cell_type": "code",
      "source": [
        "import pandas as pd\n",
        "import random\n",
        "from scipy.stats import pearsonr\n",
        "import sklearn.metrics\n",
        "import matplotlib.pyplot as plt\n",
        "import numpy as np"
      ],
      "metadata": {
        "id": "jyzLzWojnxX-"
      },
      "execution_count": 2,
      "outputs": []
    },
    {
      "cell_type": "code",
      "source": [
        "test_df = pd.read_table(\"lcp_single_test.tsv\", keep_default_na=False, quoting=3)"
      ],
      "metadata": {
        "id": "4eAKPsIsnrR9"
      },
      "execution_count": 3,
      "outputs": []
    },
    {
      "cell_type": "code",
      "source": [
        "test_df.head()"
      ],
      "metadata": {
        "colab": {
          "base_uri": "https://localhost:8080/",
          "height": 206
        },
        "id": "FozqbCX0n4pj",
        "outputId": "c32538a2-9dfa-460b-d3c5-518d74dc393d"
      },
      "execution_count": 4,
      "outputs": [
        {
          "output_type": "execute_result",
          "data": {
            "text/plain": [
              "                               id corpus  \\\n",
              "0  3K8CQCU3KE19US5SN890DFPK3SANWR  bible   \n",
              "1  3Q2T3FD0ON86LCI41NJYV3PN0BW3MV  bible   \n",
              "2  3ULIZ0H1VA5C32JJMKOTQ8Z4GUS51B  bible   \n",
              "3  3BFF0DJK8XCEIOT30ZLBPPSRMZQTSD  bible   \n",
              "4  3QREJ3J433XSBS8QMHAICCR0BQ1LKR  bible   \n",
              "\n",
              "                                            sentence     token  complexity  \n",
              "0  But he, beckoning to them with his hand to be ...      hand    0.000000  \n",
              "1  If I forget you, Jerusalem, let my right hand ...      hand    0.197368  \n",
              "2  the ten sons of Haman the son of Hammedatha, t...      hand    0.200000  \n",
              "3  Let your hand be lifted up above your adversar...      hand    0.267857  \n",
              "4  Abimelech chased him, and he fled before him, ...  entrance    0.000000  "
            ],
            "text/html": [
              "\n",
              "  <div id=\"df-20b51290-a082-45fa-a84b-0a7f4e1a0620\">\n",
              "    <div class=\"colab-df-container\">\n",
              "      <div>\n",
              "<style scoped>\n",
              "    .dataframe tbody tr th:only-of-type {\n",
              "        vertical-align: middle;\n",
              "    }\n",
              "\n",
              "    .dataframe tbody tr th {\n",
              "        vertical-align: top;\n",
              "    }\n",
              "\n",
              "    .dataframe thead th {\n",
              "        text-align: right;\n",
              "    }\n",
              "</style>\n",
              "<table border=\"1\" class=\"dataframe\">\n",
              "  <thead>\n",
              "    <tr style=\"text-align: right;\">\n",
              "      <th></th>\n",
              "      <th>id</th>\n",
              "      <th>corpus</th>\n",
              "      <th>sentence</th>\n",
              "      <th>token</th>\n",
              "      <th>complexity</th>\n",
              "    </tr>\n",
              "  </thead>\n",
              "  <tbody>\n",
              "    <tr>\n",
              "      <th>0</th>\n",
              "      <td>3K8CQCU3KE19US5SN890DFPK3SANWR</td>\n",
              "      <td>bible</td>\n",
              "      <td>But he, beckoning to them with his hand to be ...</td>\n",
              "      <td>hand</td>\n",
              "      <td>0.000000</td>\n",
              "    </tr>\n",
              "    <tr>\n",
              "      <th>1</th>\n",
              "      <td>3Q2T3FD0ON86LCI41NJYV3PN0BW3MV</td>\n",
              "      <td>bible</td>\n",
              "      <td>If I forget you, Jerusalem, let my right hand ...</td>\n",
              "      <td>hand</td>\n",
              "      <td>0.197368</td>\n",
              "    </tr>\n",
              "    <tr>\n",
              "      <th>2</th>\n",
              "      <td>3ULIZ0H1VA5C32JJMKOTQ8Z4GUS51B</td>\n",
              "      <td>bible</td>\n",
              "      <td>the ten sons of Haman the son of Hammedatha, t...</td>\n",
              "      <td>hand</td>\n",
              "      <td>0.200000</td>\n",
              "    </tr>\n",
              "    <tr>\n",
              "      <th>3</th>\n",
              "      <td>3BFF0DJK8XCEIOT30ZLBPPSRMZQTSD</td>\n",
              "      <td>bible</td>\n",
              "      <td>Let your hand be lifted up above your adversar...</td>\n",
              "      <td>hand</td>\n",
              "      <td>0.267857</td>\n",
              "    </tr>\n",
              "    <tr>\n",
              "      <th>4</th>\n",
              "      <td>3QREJ3J433XSBS8QMHAICCR0BQ1LKR</td>\n",
              "      <td>bible</td>\n",
              "      <td>Abimelech chased him, and he fled before him, ...</td>\n",
              "      <td>entrance</td>\n",
              "      <td>0.000000</td>\n",
              "    </tr>\n",
              "  </tbody>\n",
              "</table>\n",
              "</div>\n",
              "      <button class=\"colab-df-convert\" onclick=\"convertToInteractive('df-20b51290-a082-45fa-a84b-0a7f4e1a0620')\"\n",
              "              title=\"Convert this dataframe to an interactive table.\"\n",
              "              style=\"display:none;\">\n",
              "        \n",
              "  <svg xmlns=\"http://www.w3.org/2000/svg\" height=\"24px\"viewBox=\"0 0 24 24\"\n",
              "       width=\"24px\">\n",
              "    <path d=\"M0 0h24v24H0V0z\" fill=\"none\"/>\n",
              "    <path d=\"M18.56 5.44l.94 2.06.94-2.06 2.06-.94-2.06-.94-.94-2.06-.94 2.06-2.06.94zm-11 1L8.5 8.5l.94-2.06 2.06-.94-2.06-.94L8.5 2.5l-.94 2.06-2.06.94zm10 10l.94 2.06.94-2.06 2.06-.94-2.06-.94-.94-2.06-.94 2.06-2.06.94z\"/><path d=\"M17.41 7.96l-1.37-1.37c-.4-.4-.92-.59-1.43-.59-.52 0-1.04.2-1.43.59L10.3 9.45l-7.72 7.72c-.78.78-.78 2.05 0 2.83L4 21.41c.39.39.9.59 1.41.59.51 0 1.02-.2 1.41-.59l7.78-7.78 2.81-2.81c.8-.78.8-2.07 0-2.86zM5.41 20L4 18.59l7.72-7.72 1.47 1.35L5.41 20z\"/>\n",
              "  </svg>\n",
              "      </button>\n",
              "      \n",
              "  <style>\n",
              "    .colab-df-container {\n",
              "      display:flex;\n",
              "      flex-wrap:wrap;\n",
              "      gap: 12px;\n",
              "    }\n",
              "\n",
              "    .colab-df-convert {\n",
              "      background-color: #E8F0FE;\n",
              "      border: none;\n",
              "      border-radius: 50%;\n",
              "      cursor: pointer;\n",
              "      display: none;\n",
              "      fill: #1967D2;\n",
              "      height: 32px;\n",
              "      padding: 0 0 0 0;\n",
              "      width: 32px;\n",
              "    }\n",
              "\n",
              "    .colab-df-convert:hover {\n",
              "      background-color: #E2EBFA;\n",
              "      box-shadow: 0px 1px 2px rgba(60, 64, 67, 0.3), 0px 1px 3px 1px rgba(60, 64, 67, 0.15);\n",
              "      fill: #174EA6;\n",
              "    }\n",
              "\n",
              "    [theme=dark] .colab-df-convert {\n",
              "      background-color: #3B4455;\n",
              "      fill: #D2E3FC;\n",
              "    }\n",
              "\n",
              "    [theme=dark] .colab-df-convert:hover {\n",
              "      background-color: #434B5C;\n",
              "      box-shadow: 0px 1px 3px 1px rgba(0, 0, 0, 0.15);\n",
              "      filter: drop-shadow(0px 1px 2px rgba(0, 0, 0, 0.3));\n",
              "      fill: #FFFFFF;\n",
              "    }\n",
              "  </style>\n",
              "\n",
              "      <script>\n",
              "        const buttonEl =\n",
              "          document.querySelector('#df-20b51290-a082-45fa-a84b-0a7f4e1a0620 button.colab-df-convert');\n",
              "        buttonEl.style.display =\n",
              "          google.colab.kernel.accessAllowed ? 'block' : 'none';\n",
              "\n",
              "        async function convertToInteractive(key) {\n",
              "          const element = document.querySelector('#df-20b51290-a082-45fa-a84b-0a7f4e1a0620');\n",
              "          const dataTable =\n",
              "            await google.colab.kernel.invokeFunction('convertToInteractive',\n",
              "                                                     [key], {});\n",
              "          if (!dataTable) return;\n",
              "\n",
              "          const docLinkHtml = 'Like what you see? Visit the ' +\n",
              "            '<a target=\"_blank\" href=https://colab.research.google.com/notebooks/data_table.ipynb>data table notebook</a>'\n",
              "            + ' to learn more about interactive tables.';\n",
              "          element.innerHTML = '';\n",
              "          dataTable['output_type'] = 'display_data';\n",
              "          await google.colab.output.renderOutput(dataTable, element);\n",
              "          const docLink = document.createElement('div');\n",
              "          docLink.innerHTML = docLinkHtml;\n",
              "          element.appendChild(docLink);\n",
              "        }\n",
              "      </script>\n",
              "    </div>\n",
              "  </div>\n",
              "  "
            ]
          },
          "metadata": {},
          "execution_count": 4
        }
      ]
    },
    {
      "cell_type": "code",
      "source": [
        "len(test_df)"
      ],
      "metadata": {
        "colab": {
          "base_uri": "https://localhost:8080/"
        },
        "id": "apXBswIPoY0o",
        "outputId": "4b0d7b96-70f5-4be7-cc68-52f0b5bd623f"
      },
      "execution_count": 5,
      "outputs": [
        {
          "output_type": "execute_result",
          "data": {
            "text/plain": [
              "917"
            ]
          },
          "metadata": {},
          "execution_count": 5
        }
      ]
    },
    {
      "cell_type": "code",
      "source": [
        "random.seed(0)\n",
        "random_test_indexes = random.sample(range(len(test_df)), 100)\n",
        "random_test_indexes.sort()"
      ],
      "metadata": {
        "id": "yrLO6G3ioFq-"
      },
      "execution_count": 6,
      "outputs": []
    },
    {
      "cell_type": "code",
      "source": [
        "test_df.iloc[random_test_indexes][[\"corpus\", \"sentence\", \"token\", \"complexity\"]]"
      ],
      "metadata": {
        "colab": {
          "base_uri": "https://localhost:8080/",
          "height": 423
        },
        "id": "p9bgdXNgUOp6",
        "outputId": "06dfa03f-de3e-480f-8e4f-05e24cd44a8a"
      },
      "execution_count": 7,
      "outputs": [
        {
          "output_type": "execute_result",
          "data": {
            "text/plain": [
              "       corpus                                           sentence  \\\n",
              "1       bible  If I forget you, Jerusalem, let my right hand ...   \n",
              "14      bible  Of Manasseh also there fell away some to David...   \n",
              "41      bible   whose arrows are sharp, and all their bows bent.   \n",
              "63      bible  I desire therefore that the men in every place...   \n",
              "64      bible  So shall they fear the name of Yahweh from the...   \n",
              "..        ...                                                ...   \n",
              "870  europarl  This pipeline will transport the oil resources...   \n",
              "883  europarl                         Adjournment of the session   \n",
              "892  europarl  Madam President, I am sure that Mr Gallagher a...   \n",
              "903  europarl  I therefore urge that the rules on protection ...   \n",
              "911  europarl  the report by Mrs Anne Laperrouze, on behalf o...   \n",
              "\n",
              "             token  complexity  \n",
              "1             hand    0.197368  \n",
              "14          battle    0.236111  \n",
              "41          arrows    0.142857  \n",
              "63            pray    0.125000  \n",
              "64            west    0.125000  \n",
              "..             ...         ...  \n",
              "870        Caspian    0.366667  \n",
              "883    Adjournment    0.412500  \n",
              "892         Herman    0.428571  \n",
              "903      abatement    0.486111  \n",
              "911  dissemination    0.533333  \n",
              "\n",
              "[100 rows x 4 columns]"
            ],
            "text/html": [
              "\n",
              "  <div id=\"df-19981593-399e-424f-bd3c-17474d70d079\">\n",
              "    <div class=\"colab-df-container\">\n",
              "      <div>\n",
              "<style scoped>\n",
              "    .dataframe tbody tr th:only-of-type {\n",
              "        vertical-align: middle;\n",
              "    }\n",
              "\n",
              "    .dataframe tbody tr th {\n",
              "        vertical-align: top;\n",
              "    }\n",
              "\n",
              "    .dataframe thead th {\n",
              "        text-align: right;\n",
              "    }\n",
              "</style>\n",
              "<table border=\"1\" class=\"dataframe\">\n",
              "  <thead>\n",
              "    <tr style=\"text-align: right;\">\n",
              "      <th></th>\n",
              "      <th>corpus</th>\n",
              "      <th>sentence</th>\n",
              "      <th>token</th>\n",
              "      <th>complexity</th>\n",
              "    </tr>\n",
              "  </thead>\n",
              "  <tbody>\n",
              "    <tr>\n",
              "      <th>1</th>\n",
              "      <td>bible</td>\n",
              "      <td>If I forget you, Jerusalem, let my right hand ...</td>\n",
              "      <td>hand</td>\n",
              "      <td>0.197368</td>\n",
              "    </tr>\n",
              "    <tr>\n",
              "      <th>14</th>\n",
              "      <td>bible</td>\n",
              "      <td>Of Manasseh also there fell away some to David...</td>\n",
              "      <td>battle</td>\n",
              "      <td>0.236111</td>\n",
              "    </tr>\n",
              "    <tr>\n",
              "      <th>41</th>\n",
              "      <td>bible</td>\n",
              "      <td>whose arrows are sharp, and all their bows bent.</td>\n",
              "      <td>arrows</td>\n",
              "      <td>0.142857</td>\n",
              "    </tr>\n",
              "    <tr>\n",
              "      <th>63</th>\n",
              "      <td>bible</td>\n",
              "      <td>I desire therefore that the men in every place...</td>\n",
              "      <td>pray</td>\n",
              "      <td>0.125000</td>\n",
              "    </tr>\n",
              "    <tr>\n",
              "      <th>64</th>\n",
              "      <td>bible</td>\n",
              "      <td>So shall they fear the name of Yahweh from the...</td>\n",
              "      <td>west</td>\n",
              "      <td>0.125000</td>\n",
              "    </tr>\n",
              "    <tr>\n",
              "      <th>...</th>\n",
              "      <td>...</td>\n",
              "      <td>...</td>\n",
              "      <td>...</td>\n",
              "      <td>...</td>\n",
              "    </tr>\n",
              "    <tr>\n",
              "      <th>870</th>\n",
              "      <td>europarl</td>\n",
              "      <td>This pipeline will transport the oil resources...</td>\n",
              "      <td>Caspian</td>\n",
              "      <td>0.366667</td>\n",
              "    </tr>\n",
              "    <tr>\n",
              "      <th>883</th>\n",
              "      <td>europarl</td>\n",
              "      <td>Adjournment of the session</td>\n",
              "      <td>Adjournment</td>\n",
              "      <td>0.412500</td>\n",
              "    </tr>\n",
              "    <tr>\n",
              "      <th>892</th>\n",
              "      <td>europarl</td>\n",
              "      <td>Madam President, I am sure that Mr Gallagher a...</td>\n",
              "      <td>Herman</td>\n",
              "      <td>0.428571</td>\n",
              "    </tr>\n",
              "    <tr>\n",
              "      <th>903</th>\n",
              "      <td>europarl</td>\n",
              "      <td>I therefore urge that the rules on protection ...</td>\n",
              "      <td>abatement</td>\n",
              "      <td>0.486111</td>\n",
              "    </tr>\n",
              "    <tr>\n",
              "      <th>911</th>\n",
              "      <td>europarl</td>\n",
              "      <td>the report by Mrs Anne Laperrouze, on behalf o...</td>\n",
              "      <td>dissemination</td>\n",
              "      <td>0.533333</td>\n",
              "    </tr>\n",
              "  </tbody>\n",
              "</table>\n",
              "<p>100 rows × 4 columns</p>\n",
              "</div>\n",
              "      <button class=\"colab-df-convert\" onclick=\"convertToInteractive('df-19981593-399e-424f-bd3c-17474d70d079')\"\n",
              "              title=\"Convert this dataframe to an interactive table.\"\n",
              "              style=\"display:none;\">\n",
              "        \n",
              "  <svg xmlns=\"http://www.w3.org/2000/svg\" height=\"24px\"viewBox=\"0 0 24 24\"\n",
              "       width=\"24px\">\n",
              "    <path d=\"M0 0h24v24H0V0z\" fill=\"none\"/>\n",
              "    <path d=\"M18.56 5.44l.94 2.06.94-2.06 2.06-.94-2.06-.94-.94-2.06-.94 2.06-2.06.94zm-11 1L8.5 8.5l.94-2.06 2.06-.94-2.06-.94L8.5 2.5l-.94 2.06-2.06.94zm10 10l.94 2.06.94-2.06 2.06-.94-2.06-.94-.94-2.06-.94 2.06-2.06.94z\"/><path d=\"M17.41 7.96l-1.37-1.37c-.4-.4-.92-.59-1.43-.59-.52 0-1.04.2-1.43.59L10.3 9.45l-7.72 7.72c-.78.78-.78 2.05 0 2.83L4 21.41c.39.39.9.59 1.41.59.51 0 1.02-.2 1.41-.59l7.78-7.78 2.81-2.81c.8-.78.8-2.07 0-2.86zM5.41 20L4 18.59l7.72-7.72 1.47 1.35L5.41 20z\"/>\n",
              "  </svg>\n",
              "      </button>\n",
              "      \n",
              "  <style>\n",
              "    .colab-df-container {\n",
              "      display:flex;\n",
              "      flex-wrap:wrap;\n",
              "      gap: 12px;\n",
              "    }\n",
              "\n",
              "    .colab-df-convert {\n",
              "      background-color: #E8F0FE;\n",
              "      border: none;\n",
              "      border-radius: 50%;\n",
              "      cursor: pointer;\n",
              "      display: none;\n",
              "      fill: #1967D2;\n",
              "      height: 32px;\n",
              "      padding: 0 0 0 0;\n",
              "      width: 32px;\n",
              "    }\n",
              "\n",
              "    .colab-df-convert:hover {\n",
              "      background-color: #E2EBFA;\n",
              "      box-shadow: 0px 1px 2px rgba(60, 64, 67, 0.3), 0px 1px 3px 1px rgba(60, 64, 67, 0.15);\n",
              "      fill: #174EA6;\n",
              "    }\n",
              "\n",
              "    [theme=dark] .colab-df-convert {\n",
              "      background-color: #3B4455;\n",
              "      fill: #D2E3FC;\n",
              "    }\n",
              "\n",
              "    [theme=dark] .colab-df-convert:hover {\n",
              "      background-color: #434B5C;\n",
              "      box-shadow: 0px 1px 3px 1px rgba(0, 0, 0, 0.15);\n",
              "      filter: drop-shadow(0px 1px 2px rgba(0, 0, 0, 0.3));\n",
              "      fill: #FFFFFF;\n",
              "    }\n",
              "  </style>\n",
              "\n",
              "      <script>\n",
              "        const buttonEl =\n",
              "          document.querySelector('#df-19981593-399e-424f-bd3c-17474d70d079 button.colab-df-convert');\n",
              "        buttonEl.style.display =\n",
              "          google.colab.kernel.accessAllowed ? 'block' : 'none';\n",
              "\n",
              "        async function convertToInteractive(key) {\n",
              "          const element = document.querySelector('#df-19981593-399e-424f-bd3c-17474d70d079');\n",
              "          const dataTable =\n",
              "            await google.colab.kernel.invokeFunction('convertToInteractive',\n",
              "                                                     [key], {});\n",
              "          if (!dataTable) return;\n",
              "\n",
              "          const docLinkHtml = 'Like what you see? Visit the ' +\n",
              "            '<a target=\"_blank\" href=https://colab.research.google.com/notebooks/data_table.ipynb>data table notebook</a>'\n",
              "            + ' to learn more about interactive tables.';\n",
              "          element.innerHTML = '';\n",
              "          dataTable['output_type'] = 'display_data';\n",
              "          await google.colab.output.renderOutput(dataTable, element);\n",
              "          const docLink = document.createElement('div');\n",
              "          docLink.innerHTML = docLinkHtml;\n",
              "          element.appendChild(docLink);\n",
              "        }\n",
              "      </script>\n",
              "    </div>\n",
              "  </div>\n",
              "  "
            ]
          },
          "metadata": {},
          "execution_count": 7
        }
      ]
    },
    {
      "cell_type": "markdown",
      "source": [
        "**Manually obtained predictions for the 100 data points in ChatGPT using few-shot template below, results saved in 'single_token_gpt_log.json**\n",
        "\n",
        "\n",
        "\n",
        "```\n",
        "Predict the lexical complexity score of a designated target word in the input sentence. Complexity is a continuous float value between 0 and 1.  Complexity scores are assigned as follows:\n",
        "0 = \"very easy\",  a word which would be very familiar to a human annotator\n",
        "0.25 = \"easy\", or a word with which an annotator would be aware of the meaning\n",
        "0.5 = \"neutral\", a word which is neither difficult nor easy\n",
        "0.75 = \"difficult\", a word where an annotator would be unclear of the meaning but may be able to infer the meaning from the sentence\n",
        "1 = \"very difficult\", a word that an annotator would have never seen before, or would be very unclear\n",
        "The predicted complexity should be closest to the appropriate score but may be any intermediate float value.\n",
        "Output template: \"Float value between 0 and 1\"\n",
        "Input: \"The man, the lord of the land, said to us, By this I will know that you are honest men: leave one of your brothers with me, and take grain for the famine of your houses, and go your way.\"\n",
        "Target word: \"brothers\"\n",
        "Output: 0.04999999999999999\n",
        "Input: \"The king's wrath is like the roaring of a lion, but his favor is like dew on the grass.\"\n",
        "Target word: \"lion\"\n",
        "Output: 0.3157894736842105\n",
        "Input: \"He went and sent to Jehoshaphat the king of Judah, saying, The king of Moab has rebelled against me.\"\n",
        "Target word: \"Jehoshaphat\"\n",
        "Output: 0.609375\n",
        "Input : \"Transplanted cells were observed to proliferate, resulting in thousands of donor-derived erythrocytes 7 d later.\"\n",
        "Target word: \"thousands\"\n",
        "Output:  0.15000000000000002\n",
        "Input: \"As a consequence of the initial establishment of anterior-posterior positioned information within the limb by SHH and/or BMP signaling, the interdigital mesenchyme of the hand plate becomes specified in a graded manner.\"\n",
        "Target word: \"signaling\"\n",
        "Output:  0.5357142857142857\n",
        "Input: \"Detailed genetic studies in Drosophila and Caenorhabditis elegans have recently yielded evidence that basic phagocytic mechanisms and pathways for the recognition and engulfment of apoptotic cells are highly conserved throughout phylogeny [7,8].\"\n",
        "Target word: \"Drosophila\"\n",
        "Output: 0.8611111111111112\n",
        "Input: \"Advancing African agriculture - Proposal for agricultural development and food security in Africa\"\n",
        "Target word: \"agriculture\"\n",
        "Output: 0.15000000000000002\n",
        "Input: \"A corrigendum to the agenda of the sittings of 3 and 4 December, containing the proposals for changes made by the Groups, has been distributed.\"\n",
        "Target word: \"sittings\"\n",
        "Output: 0.36764705882352944\n",
        "Input: \"This morning, our committee presented its report on the European Ombudsman's report.\"\n",
        "Target word: \"Ombudsman\"\n",
        "Output: 0.6176470588235294\n",
        "Input: \"[Input sentence]\"\n",
        "Target word: \"[Input token]\"\n",
        "Output:\n",
        "```\n",
        "\n"
      ],
      "metadata": {
        "id": "8zMHGve0VNvq"
      }
    },
    {
      "cell_type": "code",
      "source": [
        "results_df = pd.read_json('single_token_gpt_log.json')"
      ],
      "metadata": {
        "id": "XebrkTrZuA2F"
      },
      "execution_count": 8,
      "outputs": []
    },
    {
      "cell_type": "code",
      "source": [
        "results_df.head()"
      ],
      "metadata": {
        "colab": {
          "base_uri": "https://localhost:8080/",
          "height": 206
        },
        "id": "bgwFzYjiuIzo",
        "outputId": "3b7d7861-ed09-4a2f-a4ea-81a95cc93f8a"
      },
      "execution_count": 9,
      "outputs": [
        {
          "output_type": "execute_result",
          "data": {
            "text/plain": [
              "   test_point  test_data_row corpus  \\\n",
              "0           1              1  bible   \n",
              "1           2             14  bible   \n",
              "2           3             41  bible   \n",
              "3           4             63  bible   \n",
              "4           5             64  bible   \n",
              "\n",
              "                                            sentence   token  \\\n",
              "0  If I forget you, Jerusalem, let my right hand ...    hand   \n",
              "1  Of Manasseh also there fell away some to David...  battle   \n",
              "2   whose arrows are sharp, and all their bows bent.  arrows   \n",
              "3  I desire therefore that the men in every place...    pray   \n",
              "4  So shall they fear the name of Yahweh from the...    west   \n",
              "\n",
              "                                           gpt_input  actual_complexity  \\\n",
              "0  Predict the lexical complexity score of a desi...           0.197368   \n",
              "1  Predict the lexical complexity score of a desi...           0.236111   \n",
              "2  Predict the lexical complexity score of a desi...           0.142857   \n",
              "3  Predict the lexical complexity score of a desi...           0.125000   \n",
              "4  Predict the lexical complexity score of a desi...           0.125000   \n",
              "\n",
              "   predicted_complexity  \n",
              "0                 0.025  \n",
              "1                 0.125  \n",
              "2                 0.125  \n",
              "3                 0.225  \n",
              "4                 0.250  "
            ],
            "text/html": [
              "\n",
              "  <div id=\"df-44d6e903-951a-47d9-8b87-b2dce3391ceb\">\n",
              "    <div class=\"colab-df-container\">\n",
              "      <div>\n",
              "<style scoped>\n",
              "    .dataframe tbody tr th:only-of-type {\n",
              "        vertical-align: middle;\n",
              "    }\n",
              "\n",
              "    .dataframe tbody tr th {\n",
              "        vertical-align: top;\n",
              "    }\n",
              "\n",
              "    .dataframe thead th {\n",
              "        text-align: right;\n",
              "    }\n",
              "</style>\n",
              "<table border=\"1\" class=\"dataframe\">\n",
              "  <thead>\n",
              "    <tr style=\"text-align: right;\">\n",
              "      <th></th>\n",
              "      <th>test_point</th>\n",
              "      <th>test_data_row</th>\n",
              "      <th>corpus</th>\n",
              "      <th>sentence</th>\n",
              "      <th>token</th>\n",
              "      <th>gpt_input</th>\n",
              "      <th>actual_complexity</th>\n",
              "      <th>predicted_complexity</th>\n",
              "    </tr>\n",
              "  </thead>\n",
              "  <tbody>\n",
              "    <tr>\n",
              "      <th>0</th>\n",
              "      <td>1</td>\n",
              "      <td>1</td>\n",
              "      <td>bible</td>\n",
              "      <td>If I forget you, Jerusalem, let my right hand ...</td>\n",
              "      <td>hand</td>\n",
              "      <td>Predict the lexical complexity score of a desi...</td>\n",
              "      <td>0.197368</td>\n",
              "      <td>0.025</td>\n",
              "    </tr>\n",
              "    <tr>\n",
              "      <th>1</th>\n",
              "      <td>2</td>\n",
              "      <td>14</td>\n",
              "      <td>bible</td>\n",
              "      <td>Of Manasseh also there fell away some to David...</td>\n",
              "      <td>battle</td>\n",
              "      <td>Predict the lexical complexity score of a desi...</td>\n",
              "      <td>0.236111</td>\n",
              "      <td>0.125</td>\n",
              "    </tr>\n",
              "    <tr>\n",
              "      <th>2</th>\n",
              "      <td>3</td>\n",
              "      <td>41</td>\n",
              "      <td>bible</td>\n",
              "      <td>whose arrows are sharp, and all their bows bent.</td>\n",
              "      <td>arrows</td>\n",
              "      <td>Predict the lexical complexity score of a desi...</td>\n",
              "      <td>0.142857</td>\n",
              "      <td>0.125</td>\n",
              "    </tr>\n",
              "    <tr>\n",
              "      <th>3</th>\n",
              "      <td>4</td>\n",
              "      <td>63</td>\n",
              "      <td>bible</td>\n",
              "      <td>I desire therefore that the men in every place...</td>\n",
              "      <td>pray</td>\n",
              "      <td>Predict the lexical complexity score of a desi...</td>\n",
              "      <td>0.125000</td>\n",
              "      <td>0.225</td>\n",
              "    </tr>\n",
              "    <tr>\n",
              "      <th>4</th>\n",
              "      <td>5</td>\n",
              "      <td>64</td>\n",
              "      <td>bible</td>\n",
              "      <td>So shall they fear the name of Yahweh from the...</td>\n",
              "      <td>west</td>\n",
              "      <td>Predict the lexical complexity score of a desi...</td>\n",
              "      <td>0.125000</td>\n",
              "      <td>0.250</td>\n",
              "    </tr>\n",
              "  </tbody>\n",
              "</table>\n",
              "</div>\n",
              "      <button class=\"colab-df-convert\" onclick=\"convertToInteractive('df-44d6e903-951a-47d9-8b87-b2dce3391ceb')\"\n",
              "              title=\"Convert this dataframe to an interactive table.\"\n",
              "              style=\"display:none;\">\n",
              "        \n",
              "  <svg xmlns=\"http://www.w3.org/2000/svg\" height=\"24px\"viewBox=\"0 0 24 24\"\n",
              "       width=\"24px\">\n",
              "    <path d=\"M0 0h24v24H0V0z\" fill=\"none\"/>\n",
              "    <path d=\"M18.56 5.44l.94 2.06.94-2.06 2.06-.94-2.06-.94-.94-2.06-.94 2.06-2.06.94zm-11 1L8.5 8.5l.94-2.06 2.06-.94-2.06-.94L8.5 2.5l-.94 2.06-2.06.94zm10 10l.94 2.06.94-2.06 2.06-.94-2.06-.94-.94-2.06-.94 2.06-2.06.94z\"/><path d=\"M17.41 7.96l-1.37-1.37c-.4-.4-.92-.59-1.43-.59-.52 0-1.04.2-1.43.59L10.3 9.45l-7.72 7.72c-.78.78-.78 2.05 0 2.83L4 21.41c.39.39.9.59 1.41.59.51 0 1.02-.2 1.41-.59l7.78-7.78 2.81-2.81c.8-.78.8-2.07 0-2.86zM5.41 20L4 18.59l7.72-7.72 1.47 1.35L5.41 20z\"/>\n",
              "  </svg>\n",
              "      </button>\n",
              "      \n",
              "  <style>\n",
              "    .colab-df-container {\n",
              "      display:flex;\n",
              "      flex-wrap:wrap;\n",
              "      gap: 12px;\n",
              "    }\n",
              "\n",
              "    .colab-df-convert {\n",
              "      background-color: #E8F0FE;\n",
              "      border: none;\n",
              "      border-radius: 50%;\n",
              "      cursor: pointer;\n",
              "      display: none;\n",
              "      fill: #1967D2;\n",
              "      height: 32px;\n",
              "      padding: 0 0 0 0;\n",
              "      width: 32px;\n",
              "    }\n",
              "\n",
              "    .colab-df-convert:hover {\n",
              "      background-color: #E2EBFA;\n",
              "      box-shadow: 0px 1px 2px rgba(60, 64, 67, 0.3), 0px 1px 3px 1px rgba(60, 64, 67, 0.15);\n",
              "      fill: #174EA6;\n",
              "    }\n",
              "\n",
              "    [theme=dark] .colab-df-convert {\n",
              "      background-color: #3B4455;\n",
              "      fill: #D2E3FC;\n",
              "    }\n",
              "\n",
              "    [theme=dark] .colab-df-convert:hover {\n",
              "      background-color: #434B5C;\n",
              "      box-shadow: 0px 1px 3px 1px rgba(0, 0, 0, 0.15);\n",
              "      filter: drop-shadow(0px 1px 2px rgba(0, 0, 0, 0.3));\n",
              "      fill: #FFFFFF;\n",
              "    }\n",
              "  </style>\n",
              "\n",
              "      <script>\n",
              "        const buttonEl =\n",
              "          document.querySelector('#df-44d6e903-951a-47d9-8b87-b2dce3391ceb button.colab-df-convert');\n",
              "        buttonEl.style.display =\n",
              "          google.colab.kernel.accessAllowed ? 'block' : 'none';\n",
              "\n",
              "        async function convertToInteractive(key) {\n",
              "          const element = document.querySelector('#df-44d6e903-951a-47d9-8b87-b2dce3391ceb');\n",
              "          const dataTable =\n",
              "            await google.colab.kernel.invokeFunction('convertToInteractive',\n",
              "                                                     [key], {});\n",
              "          if (!dataTable) return;\n",
              "\n",
              "          const docLinkHtml = 'Like what you see? Visit the ' +\n",
              "            '<a target=\"_blank\" href=https://colab.research.google.com/notebooks/data_table.ipynb>data table notebook</a>'\n",
              "            + ' to learn more about interactive tables.';\n",
              "          element.innerHTML = '';\n",
              "          dataTable['output_type'] = 'display_data';\n",
              "          await google.colab.output.renderOutput(dataTable, element);\n",
              "          const docLink = document.createElement('div');\n",
              "          docLink.innerHTML = docLinkHtml;\n",
              "          element.appendChild(docLink);\n",
              "        }\n",
              "      </script>\n",
              "    </div>\n",
              "  </div>\n",
              "  "
            ]
          },
          "metadata": {},
          "execution_count": 9
        }
      ]
    },
    {
      "cell_type": "code",
      "source": [
        "pearsonr(results_df['actual_complexity'], results_df['predicted_complexity'])"
      ],
      "metadata": {
        "colab": {
          "base_uri": "https://localhost:8080/"
        },
        "id": "gJs6GpKBHH5-",
        "outputId": "3d70a3f5-26ad-44f2-91a1-4d6d718eed54"
      },
      "execution_count": 10,
      "outputs": [
        {
          "output_type": "execute_result",
          "data": {
            "text/plain": [
              "PearsonRResult(statistic=0.6458431985464994, pvalue=4.0071515021646415e-13)"
            ]
          },
          "metadata": {},
          "execution_count": 10
        }
      ]
    },
    {
      "cell_type": "code",
      "source": [
        "sklearn.metrics.r2_score(results_df['actual_complexity'], results_df['predicted_complexity'])"
      ],
      "metadata": {
        "colab": {
          "base_uri": "https://localhost:8080/"
        },
        "id": "n0KUmIREHaak",
        "outputId": "ab6c57c8-c14c-4a1e-948e-e2d4ec3bb816"
      },
      "execution_count": 11,
      "outputs": [
        {
          "output_type": "execute_result",
          "data": {
            "text/plain": [
              "-0.6050249297631338"
            ]
          },
          "metadata": {},
          "execution_count": 11
        }
      ]
    },
    {
      "cell_type": "code",
      "source": [
        "plt.plot(results_df['actual_complexity'], results_df['predicted_complexity'], 'k.')\n",
        "plt.xlabel(\"Ground truth test complexity value\")\n",
        "plt.ylabel(\"Predicted test complexity value\")\n",
        "plt.title(\"Actual vs. predicted single-word test complexity\")\n",
        "plt.xlim([0,0.8])\n",
        "plt.ylim([0,0.8])\n",
        "plt.show()"
      ],
      "metadata": {
        "colab": {
          "base_uri": "https://localhost:8080/",
          "height": 472
        },
        "id": "QUM_mb4aHpcr",
        "outputId": "9ee3f71f-642a-4eda-b778-14dff34e0a95"
      },
      "execution_count": 19,
      "outputs": [
        {
          "output_type": "display_data",
          "data": {
            "text/plain": [
              "<Figure size 640x480 with 1 Axes>"
            ],
            "image/png": "[encoded data removed]"
          },
          "metadata": {}
        }
      ]
    },
    {
      "cell_type": "code",
      "source": [
        "bible_test_idx = np.where(results_df['corpus']=='bible')\n",
        "biomed_test_idx = np.where(results_df['corpus']=='biomed')\n",
        "europarl_test_idx = np.where(results_df['corpus']=='europarl')"
      ],
      "metadata": {
        "id": "cpvn45poH9KW"
      },
      "execution_count": 13,
      "outputs": []
    },
    {
      "cell_type": "code",
      "source": [
        "print(pearsonr(results_df.iloc[bible_test_idx]['actual_complexity'], results_df.iloc[bible_test_idx]['predicted_complexity']))\n",
        "print(pearsonr(results_df.iloc[biomed_test_idx]['actual_complexity'], results_df.iloc[biomed_test_idx]['predicted_complexity']))\n",
        "print(pearsonr(results_df.iloc[europarl_test_idx]['actual_complexity'], results_df.iloc[europarl_test_idx]['predicted_complexity']))"
      ],
      "metadata": {
        "colab": {
          "base_uri": "https://localhost:8080/"
        },
        "id": "h5D9nltvILAn",
        "outputId": "c1bcbe50-bb45-48fd-9020-15b79d91ccbd"
      },
      "execution_count": 14,
      "outputs": [
        {
          "output_type": "stream",
          "name": "stdout",
          "text": [
            "PearsonRResult(statistic=0.657965181349078, pvalue=0.00014157727815988544)\n",
            "PearsonRResult(statistic=0.6870566024527279, pvalue=3.694143886154194e-06)\n",
            "PearsonRResult(statistic=0.5236526014806775, pvalue=0.0010472373550877156)\n"
          ]
        }
      ]
    },
    {
      "cell_type": "code",
      "source": [
        "print(sklearn.metrics.r2_score(results_df.iloc[bible_test_idx]['actual_complexity'], results_df.iloc[bible_test_idx]['predicted_complexity']))\n",
        "print(sklearn.metrics.r2_score(results_df.iloc[biomed_test_idx]['actual_complexity'], results_df.iloc[biomed_test_idx]['predicted_complexity']))\n",
        "print(sklearn.metrics.r2_score(results_df.iloc[europarl_test_idx]['actual_complexity'], results_df.iloc[europarl_test_idx]['predicted_complexity']))"
      ],
      "metadata": {
        "colab": {
          "base_uri": "https://localhost:8080/"
        },
        "id": "EwMjGF9UJB3M",
        "outputId": "89da9e2f-6cbf-4a78-f27f-2944ad609b2e"
      },
      "execution_count": 15,
      "outputs": [
        {
          "output_type": "stream",
          "name": "stdout",
          "text": [
            "-1.4299644632036004\n",
            "-0.2556768039652382\n",
            "-0.949052121127866\n"
          ]
        }
      ]
    },
    {
      "cell_type": "code",
      "source": [
        "plt.plot(results_df.iloc[bible_test_idx]['actual_complexity'], results_df.iloc[bible_test_idx]['predicted_complexity'], 'b.')\n",
        "plt.xlabel(\"Ground truth test complexity value\")\n",
        "plt.ylabel(\"Predicted test complexity value\")\n",
        "plt.title(\"Actual vs. predicted single-word test complexity, bible\")\n",
        "plt.xlim([0,0.8])\n",
        "plt.ylim([0,0.8])\n",
        "plt.show()"
      ],
      "metadata": {
        "colab": {
          "base_uri": "https://localhost:8080/",
          "height": 472
        },
        "id": "TdNrEvvZUrJT",
        "outputId": "db866675-db6d-4e76-99ef-ea8c375a8092"
      },
      "execution_count": 20,
      "outputs": [
        {
          "output_type": "display_data",
          "data": {
            "text/plain": [
              "<Figure size 640x480 with 1 Axes>"
            ],
            "image/png": "[encoded data removed]"
          },
          "metadata": {}
        }
      ]
    },
    {
      "cell_type": "code",
      "source": [
        "plt.plot(results_df.iloc[biomed_test_idx]['actual_complexity'], results_df.iloc[biomed_test_idx]['predicted_complexity'], 'g.')\n",
        "plt.xlabel(\"Ground truth test complexity value\")\n",
        "plt.ylabel(\"Predicted test complexity value\")\n",
        "plt.title(\"Actual vs. predicted single-word test complexity, biomed\")\n",
        "plt.xlim([0,0.8])\n",
        "plt.ylim([0,0.8])\n",
        "plt.show()"
      ],
      "metadata": {
        "colab": {
          "base_uri": "https://localhost:8080/",
          "height": 472
        },
        "id": "37zrEt97U3EG",
        "outputId": "99e50125-7562-420a-f30e-f3824264a3f6"
      },
      "execution_count": 21,
      "outputs": [
        {
          "output_type": "display_data",
          "data": {
            "text/plain": [
              "<Figure size 640x480 with 1 Axes>"
            ],
            "image/png": "[encoded data removed]"
          },
          "metadata": {}
        }
      ]
    },
    {
      "cell_type": "code",
      "source": [
        "plt.plot(results_df.iloc[europarl_test_idx]['actual_complexity'], results_df.iloc[europarl_test_idx]['predicted_complexity'], 'r.')\n",
        "plt.xlabel(\"Ground truth test complexity value\")\n",
        "plt.ylabel(\"Predicted test complexity value\")\n",
        "plt.title(\"Actual vs. predicted single-word test complexity, europarl\")\n",
        "plt.xlim([0,0.8])\n",
        "plt.ylim([0,0.8])\n",
        "plt.show()"
      ],
      "metadata": {
        "colab": {
          "base_uri": "https://localhost:8080/",
          "height": 472
        },
        "id": "vu0YcDGZU6zk",
        "outputId": "e0c50b86-dac6-445f-eb25-efd649801f75"
      },
      "execution_count": 22,
      "outputs": [
        {
          "output_type": "display_data",
          "data": {
            "text/plain": [
              "<Figure size 640x480 with 1 Axes>"
            ],
            "image/png": "[encoded data removed]"
          },
          "metadata": {}
        }
      ]
    }
  ]
}