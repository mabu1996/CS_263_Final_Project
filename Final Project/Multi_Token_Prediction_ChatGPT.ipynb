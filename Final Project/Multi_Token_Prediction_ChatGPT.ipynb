{
  "nbformat": 4,
  "nbformat_minor": 0,
  "metadata": {
    "colab": {
      "provenance": []
    },
    "kernelspec": {
      "name": "python3",
      "display_name": "Python 3"
    },
    "language_info": {
      "name": "python"
    }
  },
  "cells": [
    {
      "cell_type": "code",
      "execution_count": 1,
      "metadata": {
        "colab": {
          "base_uri": "https://localhost:8080/"
        },
        "id": "i9B5-lmcnax2",
        "outputId": "7ec05a91-1eeb-4fda-819d-cfe6bb70cd26"
      },
      "outputs": [
        {
          "output_type": "stream",
          "name": "stdout",
          "text": [
            "Looking in indexes: https://pypi.org/simple, https://us-python.pkg.dev/colab-wheels/public/simple/\n",
            "Requirement already satisfied: pandas in /usr/local/lib/python3.10/dist-packages (1.5.3)\n",
            "Requirement already satisfied: python-dateutil>=2.8.1 in /usr/local/lib/python3.10/dist-packages (from pandas) (2.8.2)\n",
            "Requirement already satisfied: pytz>=2020.1 in /usr/local/lib/python3.10/dist-packages (from pandas) (2022.7.1)\n",
            "Requirement already satisfied: numpy>=1.21.0 in /usr/local/lib/python3.10/dist-packages (from pandas) (1.22.4)\n",
            "Requirement already satisfied: six>=1.5 in /usr/local/lib/python3.10/dist-packages (from python-dateutil>=2.8.1->pandas) (1.16.0)\n"
          ]
        }
      ],
      "source": [
        "!pip install pandas"
      ]
    },
    {
      "cell_type": "code",
      "source": [
        "import pandas as pd\n",
        "import random\n",
        "from scipy.stats import pearsonr\n",
        "import sklearn.metrics\n",
        "import matplotlib.pyplot as plt\n",
        "import numpy as np"
      ],
      "metadata": {
        "id": "jyzLzWojnxX-"
      },
      "execution_count": 16,
      "outputs": []
    },
    {
      "cell_type": "code",
      "source": [
        "test_df = pd.read_table(\"lcp_multi_test.tsv\", keep_default_na=False, quoting=3)"
      ],
      "metadata": {
        "id": "4eAKPsIsnrR9"
      },
      "execution_count": 3,
      "outputs": []
    },
    {
      "cell_type": "code",
      "source": [
        "test_df.head()"
      ],
      "metadata": {
        "colab": {
          "base_uri": "https://localhost:8080/",
          "height": 206
        },
        "id": "FozqbCX0n4pj",
        "outputId": "fcad01ca-3943-4bfb-9d6c-bdb940a6b164"
      },
      "execution_count": 4,
      "outputs": [
        {
          "output_type": "execute_result",
          "data": {
            "text/plain": [
              "                               id corpus  \\\n",
              "0  3UXQ63NLAAMRIP4WG4XPD98AOYOBLX  bible   \n",
              "1  3FJ2RVH25Z62TA3R8E1O77EBUYU92W  bible   \n",
              "2  3YO4AH2FPDK1PZHZAT8WAEBL70EQ0F  bible   \n",
              "3  3X52SWXE0X5Q3O81YI0MX4V84QTCWZ  bible   \n",
              "4  32K26U12DNONTREA84Q1V8UCIH2VD7  bible   \n",
              "\n",
              "                                            sentence           token  \\\n",
              "0  for he had an only daughter, about twelve year...   only daughter   \n",
              "1  All these were cities fortified with high wall...      high walls   \n",
              "2  In the morning, 'It will be foul weather today...   weather today   \n",
              "3  Her young children also were dashed in pieces ...  young children   \n",
              "4  All king Solomon's drinking vessels were of go...       pure gold   \n",
              "\n",
              "   complexity  \n",
              "0    0.025000  \n",
              "1    0.100000  \n",
              "2    0.125000  \n",
              "3    0.160714  \n",
              "4    0.178571  "
            ],
            "text/html": [
              "\n",
              "  <div id=\"df-e326bd08-0585-4cca-9842-ba610a9aad5d\">\n",
              "    <div class=\"colab-df-container\">\n",
              "      <div>\n",
              "<style scoped>\n",
              "    .dataframe tbody tr th:only-of-type {\n",
              "        vertical-align: middle;\n",
              "    }\n",
              "\n",
              "    .dataframe tbody tr th {\n",
              "        vertical-align: top;\n",
              "    }\n",
              "\n",
              "    .dataframe thead th {\n",
              "        text-align: right;\n",
              "    }\n",
              "</style>\n",
              "<table border=\"1\" class=\"dataframe\">\n",
              "  <thead>\n",
              "    <tr style=\"text-align: right;\">\n",
              "      <th></th>\n",
              "      <th>id</th>\n",
              "      <th>corpus</th>\n",
              "      <th>sentence</th>\n",
              "      <th>token</th>\n",
              "      <th>complexity</th>\n",
              "    </tr>\n",
              "  </thead>\n",
              "  <tbody>\n",
              "    <tr>\n",
              "      <th>0</th>\n",
              "      <td>3UXQ63NLAAMRIP4WG4XPD98AOYOBLX</td>\n",
              "      <td>bible</td>\n",
              "      <td>for he had an only daughter, about twelve year...</td>\n",
              "      <td>only daughter</td>\n",
              "      <td>0.025000</td>\n",
              "    </tr>\n",
              "    <tr>\n",
              "      <th>1</th>\n",
              "      <td>3FJ2RVH25Z62TA3R8E1O77EBUYU92W</td>\n",
              "      <td>bible</td>\n",
              "      <td>All these were cities fortified with high wall...</td>\n",
              "      <td>high walls</td>\n",
              "      <td>0.100000</td>\n",
              "    </tr>\n",
              "    <tr>\n",
              "      <th>2</th>\n",
              "      <td>3YO4AH2FPDK1PZHZAT8WAEBL70EQ0F</td>\n",
              "      <td>bible</td>\n",
              "      <td>In the morning, 'It will be foul weather today...</td>\n",
              "      <td>weather today</td>\n",
              "      <td>0.125000</td>\n",
              "    </tr>\n",
              "    <tr>\n",
              "      <th>3</th>\n",
              "      <td>3X52SWXE0X5Q3O81YI0MX4V84QTCWZ</td>\n",
              "      <td>bible</td>\n",
              "      <td>Her young children also were dashed in pieces ...</td>\n",
              "      <td>young children</td>\n",
              "      <td>0.160714</td>\n",
              "    </tr>\n",
              "    <tr>\n",
              "      <th>4</th>\n",
              "      <td>32K26U12DNONTREA84Q1V8UCIH2VD7</td>\n",
              "      <td>bible</td>\n",
              "      <td>All king Solomon's drinking vessels were of go...</td>\n",
              "      <td>pure gold</td>\n",
              "      <td>0.178571</td>\n",
              "    </tr>\n",
              "  </tbody>\n",
              "</table>\n",
              "</div>\n",
              "      <button class=\"colab-df-convert\" onclick=\"convertToInteractive('df-e326bd08-0585-4cca-9842-ba610a9aad5d')\"\n",
              "              title=\"Convert this dataframe to an interactive table.\"\n",
              "              style=\"display:none;\">\n",
              "        \n",
              "  <svg xmlns=\"http://www.w3.org/2000/svg\" height=\"24px\"viewBox=\"0 0 24 24\"\n",
              "       width=\"24px\">\n",
              "    <path d=\"M0 0h24v24H0V0z\" fill=\"none\"/>\n",
              "    <path d=\"M18.56 5.44l.94 2.06.94-2.06 2.06-.94-2.06-.94-.94-2.06-.94 2.06-2.06.94zm-11 1L8.5 8.5l.94-2.06 2.06-.94-2.06-.94L8.5 2.5l-.94 2.06-2.06.94zm10 10l.94 2.06.94-2.06 2.06-.94-2.06-.94-.94-2.06-.94 2.06-2.06.94z\"/><path d=\"M17.41 7.96l-1.37-1.37c-.4-.4-.92-.59-1.43-.59-.52 0-1.04.2-1.43.59L10.3 9.45l-7.72 7.72c-.78.78-.78 2.05 0 2.83L4 21.41c.39.39.9.59 1.41.59.51 0 1.02-.2 1.41-.59l7.78-7.78 2.81-2.81c.8-.78.8-2.07 0-2.86zM5.41 20L4 18.59l7.72-7.72 1.47 1.35L5.41 20z\"/>\n",
              "  </svg>\n",
              "      </button>\n",
              "      \n",
              "  <style>\n",
              "    .colab-df-container {\n",
              "      display:flex;\n",
              "      flex-wrap:wrap;\n",
              "      gap: 12px;\n",
              "    }\n",
              "\n",
              "    .colab-df-convert {\n",
              "      background-color: #E8F0FE;\n",
              "      border: none;\n",
              "      border-radius: 50%;\n",
              "      cursor: pointer;\n",
              "      display: none;\n",
              "      fill: #1967D2;\n",
              "      height: 32px;\n",
              "      padding: 0 0 0 0;\n",
              "      width: 32px;\n",
              "    }\n",
              "\n",
              "    .colab-df-convert:hover {\n",
              "      background-color: #E2EBFA;\n",
              "      box-shadow: 0px 1px 2px rgba(60, 64, 67, 0.3), 0px 1px 3px 1px rgba(60, 64, 67, 0.15);\n",
              "      fill: #174EA6;\n",
              "    }\n",
              "\n",
              "    [theme=dark] .colab-df-convert {\n",
              "      background-color: #3B4455;\n",
              "      fill: #D2E3FC;\n",
              "    }\n",
              "\n",
              "    [theme=dark] .colab-df-convert:hover {\n",
              "      background-color: #434B5C;\n",
              "      box-shadow: 0px 1px 3px 1px rgba(0, 0, 0, 0.15);\n",
              "      filter: drop-shadow(0px 1px 2px rgba(0, 0, 0, 0.3));\n",
              "      fill: #FFFFFF;\n",
              "    }\n",
              "  </style>\n",
              "\n",
              "      <script>\n",
              "        const buttonEl =\n",
              "          document.querySelector('#df-e326bd08-0585-4cca-9842-ba610a9aad5d button.colab-df-convert');\n",
              "        buttonEl.style.display =\n",
              "          google.colab.kernel.accessAllowed ? 'block' : 'none';\n",
              "\n",
              "        async function convertToInteractive(key) {\n",
              "          const element = document.querySelector('#df-e326bd08-0585-4cca-9842-ba610a9aad5d');\n",
              "          const dataTable =\n",
              "            await google.colab.kernel.invokeFunction('convertToInteractive',\n",
              "                                                     [key], {});\n",
              "          if (!dataTable) return;\n",
              "\n",
              "          const docLinkHtml = 'Like what you see? Visit the ' +\n",
              "            '<a target=\"_blank\" href=https://colab.research.google.com/notebooks/data_table.ipynb>data table notebook</a>'\n",
              "            + ' to learn more about interactive tables.';\n",
              "          element.innerHTML = '';\n",
              "          dataTable['output_type'] = 'display_data';\n",
              "          await google.colab.output.renderOutput(dataTable, element);\n",
              "          const docLink = document.createElement('div');\n",
              "          docLink.innerHTML = docLinkHtml;\n",
              "          element.appendChild(docLink);\n",
              "        }\n",
              "      </script>\n",
              "    </div>\n",
              "  </div>\n",
              "  "
            ]
          },
          "metadata": {},
          "execution_count": 4
        }
      ]
    },
    {
      "cell_type": "code",
      "source": [
        "len(test_df)"
      ],
      "metadata": {
        "colab": {
          "base_uri": "https://localhost:8080/"
        },
        "id": "apXBswIPoY0o",
        "outputId": "11ae32f5-ecda-4c05-e98a-1065f63561e9"
      },
      "execution_count": 5,
      "outputs": [
        {
          "output_type": "execute_result",
          "data": {
            "text/plain": [
              "184"
            ]
          },
          "metadata": {},
          "execution_count": 5
        }
      ]
    },
    {
      "cell_type": "code",
      "source": [
        "random.seed(0)\n",
        "random_test_indexes = random.sample(range(len(test_df)), 100)\n",
        "random_test_indexes.sort()"
      ],
      "metadata": {
        "id": "yrLO6G3ioFq-"
      },
      "execution_count": 6,
      "outputs": []
    },
    {
      "cell_type": "code",
      "source": [
        "test_df.iloc[random_test_indexes][[\"corpus\", \"sentence\", \"token\", \"complexity\"]]"
      ],
      "metadata": {
        "colab": {
          "base_uri": "https://localhost:8080/",
          "height": 955
        },
        "id": "p9bgdXNgUOp6",
        "outputId": "a8d8a315-a558-4198-d9ce-6976b5bf1f28"
      },
      "execution_count": 7,
      "outputs": [
        {
          "output_type": "execute_result",
          "data": {
            "text/plain": [
              "       corpus                                           sentence  \\\n",
              "0       bible  for he had an only daughter, about twelve year...   \n",
              "3       bible  Her young children also were dashed in pieces ...   \n",
              "4       bible  All king Solomon's drinking vessels were of go...   \n",
              "8       bible  The sixth captain for the sixth month was Ira ...   \n",
              "10      bible  \"His lord said to him, 'Well done, good and fa...   \n",
              "..        ...                                                ...   \n",
              "171  europarl  The EU as a global actor: its role in multilat...   \n",
              "175  europarl  Under Article 7(2) of the Act of 20 September ...   \n",
              "176  europarl  These e-mails come from an organisation called...   \n",
              "178  europarl  The next item is the debate on the report (A5-...   \n",
              "180  europarl  Agriculture as a strategic sector in the conte...   \n",
              "\n",
              "                          token  complexity  \n",
              "0                 only daughter    0.025000  \n",
              "3                young children    0.160714  \n",
              "4                     pure gold    0.178571  \n",
              "8                   sixth month    0.194444  \n",
              "10             faithful servant    0.214286  \n",
              "..                          ...         ...  \n",
              "171  multilateral organisations    0.460526  \n",
              "175       incompatible mandates    0.500000  \n",
              "176   constituent organisations    0.500000  \n",
              "178       development programme    0.532609  \n",
              "180            strategic sector    0.544118  \n",
              "\n",
              "[100 rows x 4 columns]"
            ],
            "text/html": [
              "\n",
              "  <div id=\"df-c440192a-fa28-4c4c-be58-7dd65ce08932\">\n",
              "    <div class=\"colab-df-container\">\n",
              "      <div>\n",
              "<style scoped>\n",
              "    .dataframe tbody tr th:only-of-type {\n",
              "        vertical-align: middle;\n",
              "    }\n",
              "\n",
              "    .dataframe tbody tr th {\n",
              "        vertical-align: top;\n",
              "    }\n",
              "\n",
              "    .dataframe thead th {\n",
              "        text-align: right;\n",
              "    }\n",
              "</style>\n",
              "<table border=\"1\" class=\"dataframe\">\n",
              "  <thead>\n",
              "    <tr style=\"text-align: right;\">\n",
              "      <th></th>\n",
              "      <th>corpus</th>\n",
              "      <th>sentence</th>\n",
              "      <th>token</th>\n",
              "      <th>complexity</th>\n",
              "    </tr>\n",
              "  </thead>\n",
              "  <tbody>\n",
              "    <tr>\n",
              "      <th>0</th>\n",
              "      <td>bible</td>\n",
              "      <td>for he had an only daughter, about twelve year...</td>\n",
              "      <td>only daughter</td>\n",
              "      <td>0.025000</td>\n",
              "    </tr>\n",
              "    <tr>\n",
              "      <th>3</th>\n",
              "      <td>bible</td>\n",
              "      <td>Her young children also were dashed in pieces ...</td>\n",
              "      <td>young children</td>\n",
              "      <td>0.160714</td>\n",
              "    </tr>\n",
              "    <tr>\n",
              "      <th>4</th>\n",
              "      <td>bible</td>\n",
              "      <td>All king Solomon's drinking vessels were of go...</td>\n",
              "      <td>pure gold</td>\n",
              "      <td>0.178571</td>\n",
              "    </tr>\n",
              "    <tr>\n",
              "      <th>8</th>\n",
              "      <td>bible</td>\n",
              "      <td>The sixth captain for the sixth month was Ira ...</td>\n",
              "      <td>sixth month</td>\n",
              "      <td>0.194444</td>\n",
              "    </tr>\n",
              "    <tr>\n",
              "      <th>10</th>\n",
              "      <td>bible</td>\n",
              "      <td>\"His lord said to him, 'Well done, good and fa...</td>\n",
              "      <td>faithful servant</td>\n",
              "      <td>0.214286</td>\n",
              "    </tr>\n",
              "    <tr>\n",
              "      <th>...</th>\n",
              "      <td>...</td>\n",
              "      <td>...</td>\n",
              "      <td>...</td>\n",
              "      <td>...</td>\n",
              "    </tr>\n",
              "    <tr>\n",
              "      <th>171</th>\n",
              "      <td>europarl</td>\n",
              "      <td>The EU as a global actor: its role in multilat...</td>\n",
              "      <td>multilateral organisations</td>\n",
              "      <td>0.460526</td>\n",
              "    </tr>\n",
              "    <tr>\n",
              "      <th>175</th>\n",
              "      <td>europarl</td>\n",
              "      <td>Under Article 7(2) of the Act of 20 September ...</td>\n",
              "      <td>incompatible mandates</td>\n",
              "      <td>0.500000</td>\n",
              "    </tr>\n",
              "    <tr>\n",
              "      <th>176</th>\n",
              "      <td>europarl</td>\n",
              "      <td>These e-mails come from an organisation called...</td>\n",
              "      <td>constituent organisations</td>\n",
              "      <td>0.500000</td>\n",
              "    </tr>\n",
              "    <tr>\n",
              "      <th>178</th>\n",
              "      <td>europarl</td>\n",
              "      <td>The next item is the debate on the report (A5-...</td>\n",
              "      <td>development programme</td>\n",
              "      <td>0.532609</td>\n",
              "    </tr>\n",
              "    <tr>\n",
              "      <th>180</th>\n",
              "      <td>europarl</td>\n",
              "      <td>Agriculture as a strategic sector in the conte...</td>\n",
              "      <td>strategic sector</td>\n",
              "      <td>0.544118</td>\n",
              "    </tr>\n",
              "  </tbody>\n",
              "</table>\n",
              "<p>100 rows × 4 columns</p>\n",
              "</div>\n",
              "      <button class=\"colab-df-convert\" onclick=\"convertToInteractive('df-c440192a-fa28-4c4c-be58-7dd65ce08932')\"\n",
              "              title=\"Convert this dataframe to an interactive table.\"\n",
              "              style=\"display:none;\">\n",
              "        \n",
              "  <svg xmlns=\"http://www.w3.org/2000/svg\" height=\"24px\"viewBox=\"0 0 24 24\"\n",
              "       width=\"24px\">\n",
              "    <path d=\"M0 0h24v24H0V0z\" fill=\"none\"/>\n",
              "    <path d=\"M18.56 5.44l.94 2.06.94-2.06 2.06-.94-2.06-.94-.94-2.06-.94 2.06-2.06.94zm-11 1L8.5 8.5l.94-2.06 2.06-.94-2.06-.94L8.5 2.5l-.94 2.06-2.06.94zm10 10l.94 2.06.94-2.06 2.06-.94-2.06-.94-.94-2.06-.94 2.06-2.06.94z\"/><path d=\"M17.41 7.96l-1.37-1.37c-.4-.4-.92-.59-1.43-.59-.52 0-1.04.2-1.43.59L10.3 9.45l-7.72 7.72c-.78.78-.78 2.05 0 2.83L4 21.41c.39.39.9.59 1.41.59.51 0 1.02-.2 1.41-.59l7.78-7.78 2.81-2.81c.8-.78.8-2.07 0-2.86zM5.41 20L4 18.59l7.72-7.72 1.47 1.35L5.41 20z\"/>\n",
              "  </svg>\n",
              "      </button>\n",
              "      \n",
              "  <style>\n",
              "    .colab-df-container {\n",
              "      display:flex;\n",
              "      flex-wrap:wrap;\n",
              "      gap: 12px;\n",
              "    }\n",
              "\n",
              "    .colab-df-convert {\n",
              "      background-color: #E8F0FE;\n",
              "      border: none;\n",
              "      border-radius: 50%;\n",
              "      cursor: pointer;\n",
              "      display: none;\n",
              "      fill: #1967D2;\n",
              "      height: 32px;\n",
              "      padding: 0 0 0 0;\n",
              "      width: 32px;\n",
              "    }\n",
              "\n",
              "    .colab-df-convert:hover {\n",
              "      background-color: #E2EBFA;\n",
              "      box-shadow: 0px 1px 2px rgba(60, 64, 67, 0.3), 0px 1px 3px 1px rgba(60, 64, 67, 0.15);\n",
              "      fill: #174EA6;\n",
              "    }\n",
              "\n",
              "    [theme=dark] .colab-df-convert {\n",
              "      background-color: #3B4455;\n",
              "      fill: #D2E3FC;\n",
              "    }\n",
              "\n",
              "    [theme=dark] .colab-df-convert:hover {\n",
              "      background-color: #434B5C;\n",
              "      box-shadow: 0px 1px 3px 1px rgba(0, 0, 0, 0.15);\n",
              "      filter: drop-shadow(0px 1px 2px rgba(0, 0, 0, 0.3));\n",
              "      fill: #FFFFFF;\n",
              "    }\n",
              "  </style>\n",
              "\n",
              "      <script>\n",
              "        const buttonEl =\n",
              "          document.querySelector('#df-c440192a-fa28-4c4c-be58-7dd65ce08932 button.colab-df-convert');\n",
              "        buttonEl.style.display =\n",
              "          google.colab.kernel.accessAllowed ? 'block' : 'none';\n",
              "\n",
              "        async function convertToInteractive(key) {\n",
              "          const element = document.querySelector('#df-c440192a-fa28-4c4c-be58-7dd65ce08932');\n",
              "          const dataTable =\n",
              "            await google.colab.kernel.invokeFunction('convertToInteractive',\n",
              "                                                     [key], {});\n",
              "          if (!dataTable) return;\n",
              "\n",
              "          const docLinkHtml = 'Like what you see? Visit the ' +\n",
              "            '<a target=\"_blank\" href=https://colab.research.google.com/notebooks/data_table.ipynb>data table notebook</a>'\n",
              "            + ' to learn more about interactive tables.';\n",
              "          element.innerHTML = '';\n",
              "          dataTable['output_type'] = 'display_data';\n",
              "          await google.colab.output.renderOutput(dataTable, element);\n",
              "          const docLink = document.createElement('div');\n",
              "          docLink.innerHTML = docLinkHtml;\n",
              "          element.appendChild(docLink);\n",
              "        }\n",
              "      </script>\n",
              "    </div>\n",
              "  </div>\n",
              "  "
            ]
          },
          "metadata": {},
          "execution_count": 7
        }
      ]
    },
    {
      "cell_type": "markdown",
      "source": [
        "**Manually obtained predictions for the 100 data points in ChatGPT using few-shot template below, results saved in 'multi_token_gpt_log.json**\n",
        "\n",
        "\n",
        "\n",
        "```\n",
        "Predict the lexical complexity score of a designated target multiword expression in the input sentence. Complexity is a continuous float value between 0 and 1.  Complexity scores are assigned as follows:\n",
        "0 = \"very easy\",  a multiword expression which would be very familiar to a human annotator\n",
        "0.25 = \"easy\", or a multiword expression with which an annotator would be aware of the meaning\n",
        "0.5 = \"neutral\", a multiword expression which is neither difficult nor easy\n",
        "0.75 = \"difficult\", a multiword expression where an annotator would be unclear of the meaning but may be able to infer the meaning from the sentence\n",
        "1 = \"very difficult\", a multiword expression that an annotator would have never seen before, or would be very unclear\n",
        "The predicted complexity should be closest to the appropriate score but may be any intermediate float value.\n",
        "Output template: \"Float value between 0 and 1\"\n",
        "Input: \"Because your loving kindness is better than life, my lips shall praise you.\"\n",
        "Target multiword expression: \"loving kindness\"\n",
        "Output: 0.04999999999999999\n",
        "Input: \"Don't turn from it to the right hand or to the left, that you may have good success wherever you go.\"\n",
        "Target multiword expression: \"right hand\"\n",
        "Output: 0.3970588235294118\n",
        "Input: \"Now I have brought it to pass, that it should be yours to destroy fortified cities, turning them into ruinous heaps.\"\n",
        "Target multiword expression: \"ruinous heaps\"\n",
        "Output: 0.6388888888888888\n",
        "Input : \"Therefore, TGFβ and BMP signaling are playing distinct but necessary roles to maintain articular cartilage.\"\n",
        "Target multiword expression: \"necessary roles\"\n",
        "Output:  0.18055555555555558\n",
        "Input: \"Colocalization of AQP2-F204V with the ER protein calnexin in transfected MDCK cells shows that, while most of the mutant protein is trapped in the ER, some does progress beyond the ER.\"\n",
        "Target multiword expression: \"mutant protein\"\n",
        "Output:  0.5384615384615384\n",
        "Input: \"Most of the atypical splice forms we observe appear to encode non-functional transcripts, containing frameshifts or lacking a start codon or other functional residues conserved throughout the olfactory receptor family.\"\n",
        "Target multiword expression: \"start codon\"\n",
        "Output: 0.8333333333333333\n",
        "Input: \"Account must also be taken of the costs to health, the environment and the climate of the fact that vehicles emit different types of particles and that, in burning fossil fuels, they cause increased pollution and thus more global warming.\"\n",
        "Target multiword expression: \"fossil fuels\"\n",
        "Output: 0.171875\n",
        "Input: \"(IT) Madam President, ladies and gentlemen, the oral amendment that our Group is proposing involves replacing the words 'all forms of glorifying' by the word 'apology'.\"\n",
        "Target multiword expression: \"oral amendment\"\n",
        "Output: 0.3382352941176471\n",
        "Input: \"You will recall that in the April plenary we passed a resolution in this House inviting Mr Rugova to address the Foreign Affairs Committee.\"\n",
        "Target multiword expression: \"April plenary\"\n",
        "Output: 0.6111111111111112\n",
        "Input: \"[Input sentence]\"\n",
        "Target multiword expression: \"[Input token]\"\n",
        "Output:\n",
        "```\n",
        "\n"
      ],
      "metadata": {
        "id": "8zMHGve0VNvq"
      }
    },
    {
      "cell_type": "code",
      "source": [
        "results_df = pd.read_json('multi_token_gpt_log.json')"
      ],
      "metadata": {
        "id": "XebrkTrZuA2F"
      },
      "execution_count": 8,
      "outputs": []
    },
    {
      "cell_type": "code",
      "source": [
        "results_df.head()"
      ],
      "metadata": {
        "colab": {
          "base_uri": "https://localhost:8080/",
          "height": 206
        },
        "id": "bgwFzYjiuIzo",
        "outputId": "5cff44e1-09f5-47ab-8949-175cedb84588"
      },
      "execution_count": 23,
      "outputs": [
        {
          "output_type": "execute_result",
          "data": {
            "text/plain": [
              "   test_point  test_data_row corpus  \\\n",
              "0           1              0  bible   \n",
              "1           2              3  bible   \n",
              "2           3              4  bible   \n",
              "3           4              8  bible   \n",
              "4           5             10  bible   \n",
              "\n",
              "                                            sentence             token  \\\n",
              "0  for he had an only daughter, about twelve year...     only daughter   \n",
              "1  Her young children also were dashed in pieces ...    young children   \n",
              "2  All king Solomon's drinking vessels were of go...         pure gold   \n",
              "3  The sixth captain for the sixth month was Ira ...       sixth month   \n",
              "4  \"His lord said to him, 'Well done, good and fa...  faithful servant   \n",
              "\n",
              "                                           gpt_input  actual_complexity  \\\n",
              "0  Predict the lexical complexity score of a desi...           0.025000   \n",
              "1  Predict the lexical complexity score of a desi...           0.160714   \n",
              "2  Predict the lexical complexity score of a desi...           0.178571   \n",
              "3  Predict the lexical complexity score of a desi...           0.194444   \n",
              "4  Predict the lexical complexity score of a desi...           0.214286   \n",
              "\n",
              "   predicted_complexity  \n",
              "0              0.297297  \n",
              "1              0.297297  \n",
              "2              0.279412  \n",
              "3              0.367647  \n",
              "4              0.411765  "
            ],
            "text/html": [
              "\n",
              "  <div id=\"df-75386d38-5a8e-435e-aa7a-bcb3d8096426\">\n",
              "    <div class=\"colab-df-container\">\n",
              "      <div>\n",
              "<style scoped>\n",
              "    .dataframe tbody tr th:only-of-type {\n",
              "        vertical-align: middle;\n",
              "    }\n",
              "\n",
              "    .dataframe tbody tr th {\n",
              "        vertical-align: top;\n",
              "    }\n",
              "\n",
              "    .dataframe thead th {\n",
              "        text-align: right;\n",
              "    }\n",
              "</style>\n",
              "<table border=\"1\" class=\"dataframe\">\n",
              "  <thead>\n",
              "    <tr style=\"text-align: right;\">\n",
              "      <th></th>\n",
              "      <th>test_point</th>\n",
              "      <th>test_data_row</th>\n",
              "      <th>corpus</th>\n",
              "      <th>sentence</th>\n",
              "      <th>token</th>\n",
              "      <th>gpt_input</th>\n",
              "      <th>actual_complexity</th>\n",
              "      <th>predicted_complexity</th>\n",
              "    </tr>\n",
              "  </thead>\n",
              "  <tbody>\n",
              "    <tr>\n",
              "      <th>0</th>\n",
              "      <td>1</td>\n",
              "      <td>0</td>\n",
              "      <td>bible</td>\n",
              "      <td>for he had an only daughter, about twelve year...</td>\n",
              "      <td>only daughter</td>\n",
              "      <td>Predict the lexical complexity score of a desi...</td>\n",
              "      <td>0.025000</td>\n",
              "      <td>0.297297</td>\n",
              "    </tr>\n",
              "    <tr>\n",
              "      <th>1</th>\n",
              "      <td>2</td>\n",
              "      <td>3</td>\n",
              "      <td>bible</td>\n",
              "      <td>Her young children also were dashed in pieces ...</td>\n",
              "      <td>young children</td>\n",
              "      <td>Predict the lexical complexity score of a desi...</td>\n",
              "      <td>0.160714</td>\n",
              "      <td>0.297297</td>\n",
              "    </tr>\n",
              "    <tr>\n",
              "      <th>2</th>\n",
              "      <td>3</td>\n",
              "      <td>4</td>\n",
              "      <td>bible</td>\n",
              "      <td>All king Solomon's drinking vessels were of go...</td>\n",
              "      <td>pure gold</td>\n",
              "      <td>Predict the lexical complexity score of a desi...</td>\n",
              "      <td>0.178571</td>\n",
              "      <td>0.279412</td>\n",
              "    </tr>\n",
              "    <tr>\n",
              "      <th>3</th>\n",
              "      <td>4</td>\n",
              "      <td>8</td>\n",
              "      <td>bible</td>\n",
              "      <td>The sixth captain for the sixth month was Ira ...</td>\n",
              "      <td>sixth month</td>\n",
              "      <td>Predict the lexical complexity score of a desi...</td>\n",
              "      <td>0.194444</td>\n",
              "      <td>0.367647</td>\n",
              "    </tr>\n",
              "    <tr>\n",
              "      <th>4</th>\n",
              "      <td>5</td>\n",
              "      <td>10</td>\n",
              "      <td>bible</td>\n",
              "      <td>\"His lord said to him, 'Well done, good and fa...</td>\n",
              "      <td>faithful servant</td>\n",
              "      <td>Predict the lexical complexity score of a desi...</td>\n",
              "      <td>0.214286</td>\n",
              "      <td>0.411765</td>\n",
              "    </tr>\n",
              "  </tbody>\n",
              "</table>\n",
              "</div>\n",
              "      <button class=\"colab-df-convert\" onclick=\"convertToInteractive('df-75386d38-5a8e-435e-aa7a-bcb3d8096426')\"\n",
              "              title=\"Convert this dataframe to an interactive table.\"\n",
              "              style=\"display:none;\">\n",
              "        \n",
              "  <svg xmlns=\"http://www.w3.org/2000/svg\" height=\"24px\"viewBox=\"0 0 24 24\"\n",
              "       width=\"24px\">\n",
              "    <path d=\"M0 0h24v24H0V0z\" fill=\"none\"/>\n",
              "    <path d=\"M18.56 5.44l.94 2.06.94-2.06 2.06-.94-2.06-.94-.94-2.06-.94 2.06-2.06.94zm-11 1L8.5 8.5l.94-2.06 2.06-.94-2.06-.94L8.5 2.5l-.94 2.06-2.06.94zm10 10l.94 2.06.94-2.06 2.06-.94-2.06-.94-.94-2.06-.94 2.06-2.06.94z\"/><path d=\"M17.41 7.96l-1.37-1.37c-.4-.4-.92-.59-1.43-.59-.52 0-1.04.2-1.43.59L10.3 9.45l-7.72 7.72c-.78.78-.78 2.05 0 2.83L4 21.41c.39.39.9.59 1.41.59.51 0 1.02-.2 1.41-.59l7.78-7.78 2.81-2.81c.8-.78.8-2.07 0-2.86zM5.41 20L4 18.59l7.72-7.72 1.47 1.35L5.41 20z\"/>\n",
              "  </svg>\n",
              "      </button>\n",
              "      \n",
              "  <style>\n",
              "    .colab-df-container {\n",
              "      display:flex;\n",
              "      flex-wrap:wrap;\n",
              "      gap: 12px;\n",
              "    }\n",
              "\n",
              "    .colab-df-convert {\n",
              "      background-color: #E8F0FE;\n",
              "      border: none;\n",
              "      border-radius: 50%;\n",
              "      cursor: pointer;\n",
              "      display: none;\n",
              "      fill: #1967D2;\n",
              "      height: 32px;\n",
              "      padding: 0 0 0 0;\n",
              "      width: 32px;\n",
              "    }\n",
              "\n",
              "    .colab-df-convert:hover {\n",
              "      background-color: #E2EBFA;\n",
              "      box-shadow: 0px 1px 2px rgba(60, 64, 67, 0.3), 0px 1px 3px 1px rgba(60, 64, 67, 0.15);\n",
              "      fill: #174EA6;\n",
              "    }\n",
              "\n",
              "    [theme=dark] .colab-df-convert {\n",
              "      background-color: #3B4455;\n",
              "      fill: #D2E3FC;\n",
              "    }\n",
              "\n",
              "    [theme=dark] .colab-df-convert:hover {\n",
              "      background-color: #434B5C;\n",
              "      box-shadow: 0px 1px 3px 1px rgba(0, 0, 0, 0.15);\n",
              "      filter: drop-shadow(0px 1px 2px rgba(0, 0, 0, 0.3));\n",
              "      fill: #FFFFFF;\n",
              "    }\n",
              "  </style>\n",
              "\n",
              "      <script>\n",
              "        const buttonEl =\n",
              "          document.querySelector('#df-75386d38-5a8e-435e-aa7a-bcb3d8096426 button.colab-df-convert');\n",
              "        buttonEl.style.display =\n",
              "          google.colab.kernel.accessAllowed ? 'block' : 'none';\n",
              "\n",
              "        async function convertToInteractive(key) {\n",
              "          const element = document.querySelector('#df-75386d38-5a8e-435e-aa7a-bcb3d8096426');\n",
              "          const dataTable =\n",
              "            await google.colab.kernel.invokeFunction('convertToInteractive',\n",
              "                                                     [key], {});\n",
              "          if (!dataTable) return;\n",
              "\n",
              "          const docLinkHtml = 'Like what you see? Visit the ' +\n",
              "            '<a target=\"_blank\" href=https://colab.research.google.com/notebooks/data_table.ipynb>data table notebook</a>'\n",
              "            + ' to learn more about interactive tables.';\n",
              "          element.innerHTML = '';\n",
              "          dataTable['output_type'] = 'display_data';\n",
              "          await google.colab.output.renderOutput(dataTable, element);\n",
              "          const docLink = document.createElement('div');\n",
              "          docLink.innerHTML = docLinkHtml;\n",
              "          element.appendChild(docLink);\n",
              "        }\n",
              "      </script>\n",
              "    </div>\n",
              "  </div>\n",
              "  "
            ]
          },
          "metadata": {},
          "execution_count": 23
        }
      ]
    },
    {
      "cell_type": "code",
      "source": [
        "pearsonr(results_df['actual_complexity'], results_df['predicted_complexity'])"
      ],
      "metadata": {
        "colab": {
          "base_uri": "https://localhost:8080/"
        },
        "id": "gJs6GpKBHH5-",
        "outputId": "01543b28-a7bd-455b-d043-f15cb51187dd"
      },
      "execution_count": 10,
      "outputs": [
        {
          "output_type": "execute_result",
          "data": {
            "text/plain": [
              "PearsonRResult(statistic=0.587063180034023, pvalue=1.3678614825824977e-10)"
            ]
          },
          "metadata": {},
          "execution_count": 10
        }
      ]
    },
    {
      "cell_type": "code",
      "source": [
        "sklearn.metrics.r2_score(results_df['actual_complexity'], results_df['predicted_complexity'])"
      ],
      "metadata": {
        "colab": {
          "base_uri": "https://localhost:8080/"
        },
        "id": "n0KUmIREHaak",
        "outputId": "7bdd6073-2df0-4f6e-e2fd-baba9ac8be36"
      },
      "execution_count": 11,
      "outputs": [
        {
          "output_type": "execute_result",
          "data": {
            "text/plain": [
              "0.20277663367829069"
            ]
          },
          "metadata": {},
          "execution_count": 11
        }
      ]
    },
    {
      "cell_type": "code",
      "source": [
        "plt.plot(results_df['actual_complexity'], results_df['predicted_complexity'], 'k.')\n",
        "plt.xlabel(\"Ground truth test complexity value\")\n",
        "plt.ylabel(\"Predicted test complexity value\")\n",
        "plt.title(\"Actual vs. predicted multi-word test complexity\")\n",
        "plt.xlim([0,0.8])\n",
        "plt.ylim([0,0.8])\n",
        "plt.show()"
      ],
      "metadata": {
        "colab": {
          "base_uri": "https://localhost:8080/",
          "height": 472
        },
        "id": "QUM_mb4aHpcr",
        "outputId": "9d0935ab-d679-4567-f10d-e80a189db475"
      },
      "execution_count": 15,
      "outputs": [
        {
          "output_type": "display_data",
          "data": {
            "text/plain": [
              "<Figure size 640x480 with 1 Axes>"
            ],
            "image/png": "[encoded data removed]"
          },
          "metadata": {}
        }
      ]
    },
    {
      "cell_type": "code",
      "source": [
        "bible_test_idx = np.where(results_df['corpus']=='bible')\n",
        "biomed_test_idx = np.where(results_df['corpus']=='biomed')\n",
        "europarl_test_idx = np.where(results_df['corpus']=='europarl')"
      ],
      "metadata": {
        "id": "cpvn45poH9KW"
      },
      "execution_count": 17,
      "outputs": []
    },
    {
      "cell_type": "code",
      "source": [
        "print(pearsonr(results_df.iloc[bible_test_idx]['actual_complexity'], results_df.iloc[bible_test_idx]['predicted_complexity']))\n",
        "print(pearsonr(results_df.iloc[biomed_test_idx]['actual_complexity'], results_df.iloc[biomed_test_idx]['predicted_complexity']))\n",
        "print(pearsonr(results_df.iloc[europarl_test_idx]['actual_complexity'], results_df.iloc[europarl_test_idx]['predicted_complexity']))"
      ],
      "metadata": {
        "colab": {
          "base_uri": "https://localhost:8080/"
        },
        "id": "h5D9nltvILAn",
        "outputId": "6657ddf2-0ee8-4819-804d-fed70cc0bc2f"
      },
      "execution_count": 21,
      "outputs": [
        {
          "output_type": "stream",
          "name": "stdout",
          "text": [
            "PearsonRResult(statistic=0.7202904527632381, pvalue=1.5640118899613284e-06)\n",
            "PearsonRResult(statistic=0.6681489727057172, pvalue=4.0014548025106645e-05)\n",
            "PearsonRResult(statistic=0.3590728407341089, pvalue=0.03414322046659722)\n"
          ]
        }
      ]
    },
    {
      "cell_type": "code",
      "source": [
        "print(sklearn.metrics.r2_score(results_df.iloc[bible_test_idx]['actual_complexity'], results_df.iloc[bible_test_idx]['predicted_complexity']))\n",
        "print(sklearn.metrics.r2_score(results_df.iloc[biomed_test_idx]['actual_complexity'], results_df.iloc[biomed_test_idx]['predicted_complexity']))\n",
        "print(sklearn.metrics.r2_score(results_df.iloc[europarl_test_idx]['actual_complexity'], results_df.iloc[europarl_test_idx]['predicted_complexity']))"
      ],
      "metadata": {
        "colab": {
          "base_uri": "https://localhost:8080/"
        },
        "id": "EwMjGF9UJB3M",
        "outputId": "4bd2f4f2-e2b9-44fd-eccd-ef15b1a31f47"
      },
      "execution_count": 22,
      "outputs": [
        {
          "output_type": "stream",
          "name": "stdout",
          "text": [
            "0.16727351003915092\n",
            "0.4422061712557741\n",
            "-0.90216540284457\n"
          ]
        }
      ]
    },
    {
      "cell_type": "code",
      "source": [
        "plt.plot(results_df.iloc[bible_test_idx]['actual_complexity'], results_df.iloc[bible_test_idx]['predicted_complexity'], 'b.')\n",
        "plt.xlabel(\"Ground truth test complexity value\")\n",
        "plt.ylabel(\"Predicted test complexity value\")\n",
        "plt.title(\"Actual vs. predicted multi-word test complexity, bible\")\n",
        "plt.xlim([0,0.8])\n",
        "plt.ylim([0,0.8])\n",
        "plt.show()"
      ],
      "metadata": {
        "colab": {
          "base_uri": "https://localhost:8080/",
          "height": 472
        },
        "id": "TdNrEvvZUrJT",
        "outputId": "482d5a0b-7b77-4e95-f5ca-338a5e2a77e6"
      },
      "execution_count": 25,
      "outputs": [
        {
          "output_type": "display_data",
          "data": {
            "text/plain": [
              "<Figure size 640x480 with 1 Axes>"
            ],
            "image/png": "[encoded data removed]"
          },
          "metadata": {}
        }
      ]
    },
    {
      "cell_type": "code",
      "source": [
        "plt.plot(results_df.iloc[biomed_test_idx]['actual_complexity'], results_df.iloc[biomed_test_idx]['predicted_complexity'], 'g.')\n",
        "plt.xlabel(\"Ground truth test complexity value\")\n",
        "plt.ylabel(\"Predicted test complexity value\")\n",
        "plt.title(\"Actual vs. predicted multi-word test complexity, biomed\")\n",
        "plt.xlim([0,0.8])\n",
        "plt.ylim([0,0.8])\n",
        "plt.show()"
      ],
      "metadata": {
        "colab": {
          "base_uri": "https://localhost:8080/",
          "height": 472
        },
        "id": "37zrEt97U3EG",
        "outputId": "b6b13551-7e0f-4de3-bff7-732876e13379"
      },
      "execution_count": 28,
      "outputs": [
        {
          "output_type": "display_data",
          "data": {
            "text/plain": [
              "<Figure size 640x480 with 1 Axes>"
            ],
            "image/png": "[encoded data removed]"
          },
          "metadata": {}
        }
      ]
    },
    {
      "cell_type": "code",
      "source": [
        "plt.plot(results_df.iloc[europarl_test_idx]['actual_complexity'], results_df.iloc[europarl_test_idx]['predicted_complexity'], 'r.')\n",
        "plt.xlabel(\"Ground truth test complexity value\")\n",
        "plt.ylabel(\"Predicted test complexity value\")\n",
        "plt.title(\"Actual vs. predicted multi-word test complexity, europarl\")\n",
        "plt.xlim([0,0.8])\n",
        "plt.ylim([0,0.8])\n",
        "plt.show()"
      ],
      "metadata": {
        "colab": {
          "base_uri": "https://localhost:8080/",
          "height": 472
        },
        "id": "vu0YcDGZU6zk",
        "outputId": "df6b2896-5d96-40fc-903e-adbe1f63096b"
      },
      "execution_count": 29,
      "outputs": [
        {
          "output_type": "display_data",
          "data": {
            "text/plain": [
              "<Figure size 640x480 with 1 Axes>"
            ],
            "image/png": "[encoded data removed]"
          },
          "metadata": {}
        }
      ]
    }
  ]
}